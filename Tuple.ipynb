{
 "cells": [
  {
   "cell_type": "code",
   "execution_count": 7,
   "id": "5950dd60",
   "metadata": {},
   "outputs": [
    {
     "name": "stdout",
     "output_type": "stream",
     "text": [
      "{'name': 'Edy', 'age': 26, 'address': 'London'}\n"
     ]
    }
   ],
   "source": [
    "myDict = {'name':'Edy','age':26}\n",
    "myDict['address'] = 'London'\n",
    "print(myDict)"
   ]
  },
  {
   "cell_type": "code",
   "execution_count": 8,
   "id": "12b74e5e",
   "metadata": {},
   "outputs": [
    {
     "name": "stdout",
     "output_type": "stream",
     "text": [
      "{'name': 'Edy', 'age': 27, 'address': 'London'}\n"
     ]
    }
   ],
   "source": [
    "myDict['age'] = 27\n",
    "print(myDict)"
   ]
  },
  {
   "cell_type": "code",
   "execution_count": 9,
   "id": "e0df33ca",
   "metadata": {},
   "outputs": [
    {
     "name": "stdout",
     "output_type": "stream",
     "text": [
      "name Edy\n",
      "age 27\n",
      "address London\n"
     ]
    }
   ],
   "source": [
    "# Traverse through a dictionary\n",
    "def traverseDict(dict):\n",
    "    for key in dict :\n",
    "        print(key,dict[key])\n",
    "traverseDict(myDict)"
   ]
  },
  {
   "cell_type": "code",
   "execution_count": 11,
   "id": "6c947ac7",
   "metadata": {},
   "outputs": [
    {
     "name": "stdout",
     "output_type": "stream",
     "text": [
      "('age', 27)\n"
     ]
    }
   ],
   "source": [
    "# Searching a dictionary\n",
    "def searchDict(dict,value) :\n",
    "    for key in dict :\n",
    "        if dict[key] == value :\n",
    "            return key, value\n",
    "    return 'The value does not exist'\n",
    "print(searchDict(myDict, 27))"
   ]
  },
  {
   "cell_type": "code",
   "execution_count": 12,
   "id": "163b05ab",
   "metadata": {},
   "outputs": [
    {
     "data": {
      "text/plain": [
       "'Edy'"
      ]
     },
     "execution_count": 12,
     "metadata": {},
     "output_type": "execute_result"
    }
   ],
   "source": [
    "# Delete or remove a dictionary\n",
    "myDict.pop('name')"
   ]
  },
  {
   "cell_type": "code",
   "execution_count": 13,
   "id": "a08189a9",
   "metadata": {},
   "outputs": [
    {
     "name": "stdout",
     "output_type": "stream",
     "text": [
      "{'age': 27, 'address': 'London'}\n"
     ]
    }
   ],
   "source": [
    "print(myDict)"
   ]
  },
  {
   "cell_type": "code",
   "execution_count": 14,
   "id": "70db25b3",
   "metadata": {},
   "outputs": [
    {
     "name": "stdout",
     "output_type": "stream",
     "text": [
      "['aas', 'udd', 'sseo', 'werwi', 'eooooa']\n"
     ]
    }
   ],
   "source": [
    "# sorted method\n",
    "myDict = {'eooooa': 1, 'aas': 2, 'udd': 3, 'sseo': 4, 'werwi':5}\n",
    "\n",
    "print(sorted(myDict, key=len))"
   ]
  },
  {
   "cell_type": "code",
   "execution_count": 15,
   "id": "4e36f1f5",
   "metadata": {},
   "outputs": [
    {
     "name": "stdout",
     "output_type": "stream",
     "text": [
      "{'eooooa': 1, 'aas': 2, 'udd': 3, 'sseo': 4, 'werwi': 5}\n"
     ]
    }
   ],
   "source": [
    "print(myDict)"
   ]
  },
  {
   "cell_type": "code",
   "execution_count": 19,
   "id": "36204648",
   "metadata": {},
   "outputs": [],
   "source": [
    "myDict.clear()"
   ]
  },
  {
   "cell_type": "code",
   "execution_count": 20,
   "id": "900460fb",
   "metadata": {},
   "outputs": [
    {
     "name": "stdout",
     "output_type": "stream",
     "text": [
      "{}\n"
     ]
    }
   ],
   "source": [
    "print(myDict)"
   ]
  },
  {
   "cell_type": "code",
   "execution_count": 21,
   "id": "89ccf720",
   "metadata": {},
   "outputs": [],
   "source": [
    "myDict = {'name':'Edy','age':26}"
   ]
  },
  {
   "cell_type": "code",
   "execution_count": 22,
   "id": "f055ec97",
   "metadata": {},
   "outputs": [
    {
     "name": "stdout",
     "output_type": "stream",
     "text": [
      "{'name': 'Edy', 'age': 26}\n"
     ]
    }
   ],
   "source": [
    "print(myDict)"
   ]
  },
  {
   "cell_type": "code",
   "execution_count": 23,
   "id": "d8554cee",
   "metadata": {},
   "outputs": [],
   "source": [
    "dict = myDict.copy"
   ]
  },
  {
   "cell_type": "code",
   "execution_count": 24,
   "id": "96dca612",
   "metadata": {},
   "outputs": [
    {
     "name": "stdout",
     "output_type": "stream",
     "text": [
      "{'name': 'Edy', 'age': 26}\n"
     ]
    }
   ],
   "source": [
    "print(myDict)"
   ]
  },
  {
   "cell_type": "code",
   "execution_count": 25,
   "id": "d6472caa",
   "metadata": {},
   "outputs": [
    {
     "name": "stdout",
     "output_type": "stream",
     "text": [
      "{1: 0, 2: 0, 3: 0}\n"
     ]
    }
   ],
   "source": [
    "newDict = {}.fromkeys([1,2,3],0)\n",
    "print(newDict)"
   ]
  },
  {
   "cell_type": "code",
   "execution_count": 26,
   "id": "5127ea22",
   "metadata": {},
   "outputs": [
    {
     "name": "stdout",
     "output_type": "stream",
     "text": [
      "Edy\n"
     ]
    }
   ],
   "source": [
    "print(myDict.get('name',26))"
   ]
  },
  {
   "cell_type": "code",
   "execution_count": 27,
   "id": "a2b9d37d",
   "metadata": {},
   "outputs": [
    {
     "name": "stdout",
     "output_type": "stream",
     "text": [
      "27\n"
     ]
    }
   ],
   "source": [
    "print(myDict.get('city',27))"
   ]
  },
  {
   "cell_type": "code",
   "execution_count": 28,
   "id": "a2ba6ffd",
   "metadata": {},
   "outputs": [
    {
     "name": "stdout",
     "output_type": "stream",
     "text": [
      "None\n"
     ]
    }
   ],
   "source": [
    "print(myDict.get('city'))"
   ]
  },
  {
   "cell_type": "code",
   "execution_count": 29,
   "id": "e79a8078",
   "metadata": {},
   "outputs": [
    {
     "name": "stdout",
     "output_type": "stream",
     "text": [
      "dict_items([('name', 'Edy'), ('age', 26)])\n"
     ]
    }
   ],
   "source": [
    "print(myDict.items())"
   ]
  },
  {
   "cell_type": "code",
   "execution_count": 32,
   "id": "670d59a8",
   "metadata": {},
   "outputs": [
    {
     "name": "stdout",
     "output_type": "stream",
     "text": [
      "dict_keys(['name', 'age'])\n"
     ]
    }
   ],
   "source": [
    "print(myDict.keys())"
   ]
  },
  {
   "cell_type": "code",
   "execution_count": 33,
   "id": "5fbfb4f6",
   "metadata": {},
   "outputs": [
    {
     "name": "stdout",
     "output_type": "stream",
     "text": [
      "dict_values(['Edy', 26])\n"
     ]
    }
   ],
   "source": [
    "print(myDict.values())"
   ]
  },
  {
   "cell_type": "code",
   "execution_count": 35,
   "id": "24246a77",
   "metadata": {},
   "outputs": [
    {
     "name": "stdout",
     "output_type": "stream",
     "text": [
      "('age', 26)\n"
     ]
    }
   ],
   "source": [
    "print(myDict.popitem())"
   ]
  },
  {
   "cell_type": "code",
   "execution_count": 36,
   "id": "fc07734c",
   "metadata": {},
   "outputs": [
    {
     "name": "stdout",
     "output_type": "stream",
     "text": [
      "{'name': 'Edy'}\n"
     ]
    }
   ],
   "source": [
    "print(myDict)"
   ]
  },
  {
   "cell_type": "code",
   "execution_count": 37,
   "id": "ff2ae053",
   "metadata": {},
   "outputs": [
    {
     "name": "stdout",
     "output_type": "stream",
     "text": [
      "Edy\n"
     ]
    }
   ],
   "source": [
    "print(myDict.setdefault('name','added'))"
   ]
  },
  {
   "cell_type": "code",
   "execution_count": 38,
   "id": "ff076e16",
   "metadata": {},
   "outputs": [
    {
     "name": "stdout",
     "output_type": "stream",
     "text": [
      "{'name': 'Edy'}\n"
     ]
    }
   ],
   "source": [
    "print(myDict)"
   ]
  },
  {
   "cell_type": "code",
   "execution_count": 39,
   "id": "72e90749",
   "metadata": {},
   "outputs": [
    {
     "name": "stdout",
     "output_type": "stream",
     "text": [
      "added\n"
     ]
    }
   ],
   "source": [
    "print(myDict.setdefault('name1','added'))"
   ]
  },
  {
   "cell_type": "code",
   "execution_count": 40,
   "id": "f9198c7c",
   "metadata": {},
   "outputs": [
    {
     "name": "stdout",
     "output_type": "stream",
     "text": [
      "{'name': 'Edy', 'name1': 'added'}\n"
     ]
    }
   ],
   "source": [
    "print(myDict)"
   ]
  },
  {
   "cell_type": "code",
   "execution_count": 47,
   "id": "90101746",
   "metadata": {},
   "outputs": [
    {
     "name": "stdout",
     "output_type": "stream",
     "text": [
      "not\n"
     ]
    }
   ],
   "source": [
    "print(myDict.pop('name1','not'))"
   ]
  },
  {
   "cell_type": "code",
   "execution_count": 42,
   "id": "a7008548",
   "metadata": {},
   "outputs": [
    {
     "name": "stdout",
     "output_type": "stream",
     "text": [
      "{'name': 'Edy'}\n"
     ]
    }
   ],
   "source": [
    "print(myDict)"
   ]
  },
  {
   "cell_type": "code",
   "execution_count": 48,
   "id": "c28010ab",
   "metadata": {},
   "outputs": [
    {
     "name": "stdout",
     "output_type": "stream",
     "text": [
      "{'name': 'Edy', 'a': 1, 'b': 2, 'c': 3}\n"
     ]
    }
   ],
   "source": [
    "newDict = {'a' : 1, 'b': 2, 'c': 3}\n",
    "myDict.update(newDict)\n",
    "print(myDict)"
   ]
  },
  {
   "cell_type": "code",
   "execution_count": null,
   "id": "c50c9846",
   "metadata": {},
   "outputs": [],
   "source": [
    "# Tuple"
   ]
  },
  {
   "cell_type": "code",
   "execution_count": 49,
   "id": "fd9e3e62",
   "metadata": {},
   "outputs": [
    {
     "name": "stdout",
     "output_type": "stream",
     "text": [
      "('a', 'b', 'c', 'd', 'e')\n"
     ]
    }
   ],
   "source": [
    "newTuple = ('a', 'b', 'c', 'd', 'e')\n",
    "newTuple1 = tuple('abcde')\n",
    "print(newTuple)"
   ]
  },
  {
   "cell_type": "code",
   "execution_count": 50,
   "id": "0ca7ea43",
   "metadata": {},
   "outputs": [
    {
     "name": "stdout",
     "output_type": "stream",
     "text": [
      "('a', 'b', 'c', 'd', 'e')\n"
     ]
    }
   ],
   "source": [
    "print(newTuple1)"
   ]
  },
  {
   "cell_type": "code",
   "execution_count": 55,
   "id": "e3512e26",
   "metadata": {},
   "outputs": [
    {
     "name": "stdout",
     "output_type": "stream",
     "text": [
      "('a', 'c', 'e')\n"
     ]
    }
   ],
   "source": [
    "# Access Tuple elements\n",
    "\n",
    "print(newTuple[0::2])"
   ]
  },
  {
   "cell_type": "code",
   "execution_count": 56,
   "id": "f36d7b39",
   "metadata": {},
   "outputs": [
    {
     "name": "stdout",
     "output_type": "stream",
     "text": [
      "a\n",
      "b\n",
      "c\n",
      "d\n",
      "e\n"
     ]
    }
   ],
   "source": [
    "# Traverse Through tuple\n",
    "\n",
    "for i in newTuple :\n",
    "    print(i)"
   ]
  },
  {
   "cell_type": "code",
   "execution_count": 57,
   "id": "db14f6e8",
   "metadata": {},
   "outputs": [
    {
     "name": "stdout",
     "output_type": "stream",
     "text": [
      "a\n",
      "b\n",
      "c\n",
      "d\n",
      "e\n"
     ]
    }
   ],
   "source": [
    "for index in range (len(newTuple)):\n",
    "    print(newTuple[index])"
   ]
  },
  {
   "cell_type": "code",
   "execution_count": null,
   "id": "04c00989",
   "metadata": {},
   "outputs": [],
   "source": [
    "# How "
   ]
  }
 ],
 "metadata": {
  "kernelspec": {
   "display_name": "Python 3 (ipykernel)",
   "language": "python",
   "name": "python3"
  },
  "language_info": {
   "codemirror_mode": {
    "name": "ipython",
    "version": 3
   },
   "file_extension": ".py",
   "mimetype": "text/x-python",
   "name": "python",
   "nbconvert_exporter": "python",
   "pygments_lexer": "ipython3",
   "version": "3.9.12"
  }
 },
 "nbformat": 4,
 "nbformat_minor": 5
}
