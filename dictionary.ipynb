{
 "cells": [
  {
   "cell_type": "code",
   "execution_count": 5,
   "id": "04052426",
   "metadata": {},
   "outputs": [
    {
     "name": "stdout",
     "output_type": "stream",
     "text": [
      "{'one': '1', 'Two': '2'}\n"
     ]
    }
   ],
   "source": [
    "myDict = dict (one = \"1\", Two = \"2\")\n",
    "print(myDict)"
   ]
  },
  {
   "cell_type": "code",
   "execution_count": 7,
   "id": "fdde16f6",
   "metadata": {},
   "outputs": [
    {
     "name": "stdout",
     "output_type": "stream",
     "text": [
      "{'one': '1', 'Two': '2'}\n"
     ]
    }
   ],
   "source": [
    "secondDict = {\"one\" : \"1\", \"Two\" : \"2\"}\n",
    "print(secondDict)"
   ]
  },
  {
   "cell_type": "code",
   "execution_count": 8,
   "id": "5a8c10ad",
   "metadata": {},
   "outputs": [
    {
     "name": "stdout",
     "output_type": "stream",
     "text": [
      "{'one': 'uno', 'two': 'dos', 'three': 'tres'}\n"
     ]
    }
   ],
   "source": [
    "engToSp = {\"one\":\"uno\",\"two\":\"dos\",\"three\":\"tres\"}\n",
    "print(engToSp)"
   ]
  },
  {
   "cell_type": "code",
   "execution_count": 17,
   "id": "49246edd",
   "metadata": {},
   "outputs": [
    {
     "data": {
      "text/plain": [
       "'uno'"
      ]
     },
     "execution_count": 17,
     "metadata": {},
     "output_type": "execute_result"
    }
   ],
   "source": [
    "engToSp[\"one\"]"
   ]
  },
  {
   "cell_type": "code",
   "execution_count": 16,
   "id": "6a175724",
   "metadata": {},
   "outputs": [
    {
     "name": "stdout",
     "output_type": "stream",
     "text": [
      "uno\n"
     ]
    }
   ],
   "source": [
    "print(engToSp[\"one\"])"
   ]
  },
  {
   "cell_type": "code",
   "execution_count": 18,
   "id": "f5be513c",
   "metadata": {},
   "outputs": [],
   "source": [
    "engToSp[\"two\"]=\"dua\""
   ]
  },
  {
   "cell_type": "code",
   "execution_count": 19,
   "id": "a4a2ef0b",
   "metadata": {},
   "outputs": [
    {
     "name": "stdout",
     "output_type": "stream",
     "text": [
      "{'one': 'uno', 'two': 'dua', 'three': 'tres'}\n"
     ]
    }
   ],
   "source": [
    "print(engToSp)"
   ]
  },
  {
   "cell_type": "code",
   "execution_count": 20,
   "id": "4bc637af",
   "metadata": {},
   "outputs": [],
   "source": [
    "engToSp[\"four\"]=\"quatro\""
   ]
  },
  {
   "cell_type": "code",
   "execution_count": 21,
   "id": "d8b897e2",
   "metadata": {},
   "outputs": [
    {
     "name": "stdout",
     "output_type": "stream",
     "text": [
      "{'one': 'uno', 'two': 'dua', 'three': 'tres', 'four': 'quatro'}\n"
     ]
    }
   ],
   "source": [
    "print(engToSp)"
   ]
  },
  {
   "cell_type": "code",
   "execution_count": 22,
   "id": "edf5468e",
   "metadata": {},
   "outputs": [
    {
     "data": {
      "text/plain": [
       "'dua'"
      ]
     },
     "execution_count": 22,
     "metadata": {},
     "output_type": "execute_result"
    }
   ],
   "source": [
    "engToSp.pop(\"two\")"
   ]
  },
  {
   "cell_type": "code",
   "execution_count": 23,
   "id": "a649404e",
   "metadata": {},
   "outputs": [
    {
     "name": "stdout",
     "output_type": "stream",
     "text": [
      "{'one': 'uno', 'three': 'tres', 'four': 'quatro'}\n"
     ]
    }
   ],
   "source": [
    "print(engToSp)"
   ]
  },
  {
   "cell_type": "code",
   "execution_count": 24,
   "id": "ad8489ad",
   "metadata": {},
   "outputs": [
    {
     "data": {
      "text/plain": [
       "('four', 'quatro')"
      ]
     },
     "execution_count": 24,
     "metadata": {},
     "output_type": "execute_result"
    }
   ],
   "source": [
    "engToSp.popitem"
   ]
  },
  {
   "cell_type": "code",
   "execution_count": 25,
   "id": "ab23fce4",
   "metadata": {},
   "outputs": [
    {
     "name": "stdout",
     "output_type": "stream",
     "text": [
      "{'one': 'uno', 'three': 'tres'}\n"
     ]
    }
   ],
   "source": [
    "print(engToSp)"
   ]
  },
  {
   "cell_type": "code",
   "execution_count": 27,
   "id": "a28ecca5",
   "metadata": {},
   "outputs": [],
   "source": [
    "engToSp.clear()"
   ]
  },
  {
   "cell_type": "code",
   "execution_count": 28,
   "id": "440aeb1b",
   "metadata": {},
   "outputs": [
    {
     "name": "stdout",
     "output_type": "stream",
     "text": [
      "{}\n"
     ]
    }
   ],
   "source": [
    "print(engToSp)"
   ]
  },
  {
   "cell_type": "code",
   "execution_count": 29,
   "id": "eeebb6f2",
   "metadata": {},
   "outputs": [
    {
     "name": "stdout",
     "output_type": "stream",
     "text": [
      "{'one': 'uno', 'two': 'dos', 'three': 'tres'}\n"
     ]
    }
   ],
   "source": [
    "engToSp = {\"one\":\"uno\",\"two\":\"dos\",\"three\":\"tres\"}\n",
    "print(engToSp)"
   ]
  },
  {
   "cell_type": "code",
   "execution_count": 31,
   "id": "8c85cc1d",
   "metadata": {},
   "outputs": [],
   "source": [
    "del engToSp [\"one\"]"
   ]
  },
  {
   "cell_type": "code",
   "execution_count": 32,
   "id": "9ff1c1fc",
   "metadata": {},
   "outputs": [
    {
     "name": "stdout",
     "output_type": "stream",
     "text": [
      "{'two': 'dos', 'three': 'tres'}\n"
     ]
    }
   ],
   "source": [
    "print(engToSp)"
   ]
  },
  {
   "cell_type": "code",
   "execution_count": 33,
   "id": "db8122d6",
   "metadata": {},
   "outputs": [],
   "source": [
    "del engToSp"
   ]
  },
  {
   "cell_type": "code",
   "execution_count": 34,
   "id": "cf520ad6",
   "metadata": {
    "scrolled": true
   },
   "outputs": [
    {
     "ename": "NameError",
     "evalue": "name 'engToSp' is not defined",
     "output_type": "error",
     "traceback": [
      "\u001b[1;31m---------------------------------------------------------------------------\u001b[0m",
      "\u001b[1;31mNameError\u001b[0m                                 Traceback (most recent call last)",
      "Input \u001b[1;32mIn [34]\u001b[0m, in \u001b[0;36m<cell line: 1>\u001b[1;34m()\u001b[0m\n\u001b[1;32m----> 1\u001b[0m \u001b[38;5;28mprint\u001b[39m(\u001b[43mengToSp\u001b[49m)\n",
      "\u001b[1;31mNameError\u001b[0m: name 'engToSp' is not defined"
     ]
    }
   ],
   "source": [
    "print(engToSp)"
   ]
  },
  {
   "cell_type": "code",
   "execution_count": 35,
   "id": "b6db8c31",
   "metadata": {},
   "outputs": [
    {
     "name": "stdout",
     "output_type": "stream",
     "text": [
      "{'one': 'uno', 'two': 'dos', 'three': 'tres'}\n"
     ]
    }
   ],
   "source": [
    "engToSp = {\"one\":\"uno\",\"two\":\"dos\",\"three\":\"tres\"}\n",
    "print(engToSp)"
   ]
  },
  {
   "cell_type": "markdown",
   "id": "2c331fe1",
   "metadata": {},
   "source": [
    "# Tuple"
   ]
  },
  {
   "cell_type": "code",
   "execution_count": null,
   "id": "3e2d1b14",
   "metadata": {},
   "outputs": [],
   "source": []
  }
 ],
 "metadata": {
  "kernelspec": {
   "display_name": "Python 3 (ipykernel)",
   "language": "python",
   "name": "python3"
  },
  "language_info": {
   "codemirror_mode": {
    "name": "ipython",
    "version": 3
   },
   "file_extension": ".py",
   "mimetype": "text/x-python",
   "name": "python",
   "nbconvert_exporter": "python",
   "pygments_lexer": "ipython3",
   "version": "3.9.12"
  }
 },
 "nbformat": 4,
 "nbformat_minor": 5
}
