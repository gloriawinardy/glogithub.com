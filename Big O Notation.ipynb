{
 "cells": [
  {
   "cell_type": "markdown",
   "id": "ac056a6c",
   "metadata": {},
   "source": [
    "######  Constant time complexity  #######"
   ]
  },
  {
   "cell_type": "code",
   "execution_count": 3,
   "id": "73bc2c76",
   "metadata": {
    "scrolled": true
   },
   "outputs": [
    {
     "name": "stdout",
     "output_type": "stream",
     "text": [
      "1\n"
     ]
    }
   ],
   "source": [
    "array = [1, 2, 3, 4, 5]\n",
    "print(array[0])"
   ]
  },
  {
   "cell_type": "markdown",
   "id": "39913bba",
   "metadata": {},
   "source": [
    "######  Linear time complexity  #######"
   ]
  },
  {
   "cell_type": "code",
   "execution_count": 4,
   "id": "02d9df8b",
   "metadata": {
    "scrolled": true
   },
   "outputs": [
    {
     "name": "stdout",
     "output_type": "stream",
     "text": [
      "1\n",
      "2\n",
      "3\n",
      "4\n",
      "5\n"
     ]
    }
   ],
   "source": [
    "for element in array:\n",
    "     print(element)"
   ]
  },
  {
   "cell_type": "markdown",
   "id": "86865381",
   "metadata": {},
   "source": [
    "######  Logarithmic time complexity  #######"
   ]
  },
  {
   "cell_type": "code",
   "execution_count": 5,
   "id": "177a72d9",
   "metadata": {},
   "outputs": [
    {
     "name": "stdout",
     "output_type": "stream",
     "text": [
      "1\n",
      "4\n"
     ]
    }
   ],
   "source": [
    "for index in range(0,len(array),3):\n",
    "     print(array[index])\n"
   ]
  },
  {
   "cell_type": "markdown",
   "id": "031993b6",
   "metadata": {},
   "source": [
    "######  Quadratic time complexity  #######"
   ]
  },
  {
   "cell_type": "code",
   "execution_count": 6,
   "id": "86209ea1",
   "metadata": {},
   "outputs": [
    {
     "name": "stdout",
     "output_type": "stream",
     "text": [
      "1 1\n",
      "1 2\n",
      "1 3\n",
      "1 4\n",
      "1 5\n",
      "2 1\n",
      "2 2\n",
      "2 3\n",
      "2 4\n",
      "2 5\n",
      "3 1\n",
      "3 2\n",
      "3 3\n",
      "3 4\n",
      "3 5\n",
      "4 1\n",
      "4 2\n",
      "4 3\n",
      "4 4\n",
      "4 5\n",
      "5 1\n",
      "5 2\n",
      "5 3\n",
      "5 4\n",
      "5 5\n"
     ]
    }
   ],
   "source": [
    "for x in array:\n",
    "    for y in array:\n",
    "         print(x,y)"
   ]
  },
  {
   "cell_type": "markdown",
   "id": "53bcbcc1",
   "metadata": {},
   "source": [
    "######  Exponential time complexity  #######"
   ]
  },
  {
   "cell_type": "code",
   "execution_count": 10,
   "id": "6245c665",
   "metadata": {},
   "outputs": [],
   "source": [
    "def fibonacci(n):\n",
    "    if n <= 1:\n",
    "        return n\n",
    "    return fibonacci(n-1) + fibonacci(n-2)"
   ]
  },
  {
   "cell_type": "markdown",
   "id": "e7b0a8ec",
   "metadata": {},
   "source": [
    "######  Add vs Multiply ####### "
   ]
  },
  {
   "cell_type": "code",
   "execution_count": 11,
   "id": "de9746a3",
   "metadata": {},
   "outputs": [
    {
     "name": "stdout",
     "output_type": "stream",
     "text": [
      "1\n",
      "2\n",
      "3\n",
      "4\n",
      "5\n",
      "6\n",
      "7\n",
      "8\n",
      "9\n",
      "11\n",
      "12\n",
      "13\n",
      "14\n",
      "15\n",
      "16\n",
      "17\n",
      "18\n",
      "19\n",
      "1 11\n",
      "1 12\n",
      "1 13\n",
      "1 14\n",
      "1 15\n",
      "1 16\n",
      "1 17\n",
      "1 18\n",
      "1 19\n",
      "2 11\n",
      "2 12\n",
      "2 13\n",
      "2 14\n",
      "2 15\n",
      "2 16\n",
      "2 17\n",
      "2 18\n",
      "2 19\n",
      "3 11\n",
      "3 12\n",
      "3 13\n",
      "3 14\n",
      "3 15\n",
      "3 16\n",
      "3 17\n",
      "3 18\n",
      "3 19\n",
      "4 11\n",
      "4 12\n",
      "4 13\n",
      "4 14\n",
      "4 15\n",
      "4 16\n",
      "4 17\n",
      "4 18\n",
      "4 19\n",
      "5 11\n",
      "5 12\n",
      "5 13\n",
      "5 14\n",
      "5 15\n",
      "5 16\n",
      "5 17\n",
      "5 18\n",
      "5 19\n",
      "6 11\n",
      "6 12\n",
      "6 13\n",
      "6 14\n",
      "6 15\n",
      "6 16\n",
      "6 17\n",
      "6 18\n",
      "6 19\n",
      "7 11\n",
      "7 12\n",
      "7 13\n",
      "7 14\n",
      "7 15\n",
      "7 16\n",
      "7 17\n",
      "7 18\n",
      "7 19\n",
      "8 11\n",
      "8 12\n",
      "8 13\n",
      "8 14\n",
      "8 15\n",
      "8 16\n",
      "8 17\n",
      "8 18\n",
      "8 19\n",
      "9 11\n",
      "9 12\n",
      "9 13\n",
      "9 14\n",
      "9 15\n",
      "9 16\n",
      "9 17\n",
      "9 18\n",
      "9 19\n"
     ]
    }
   ],
   "source": [
    "arrayA = [1,2,3,4,5,6,7,8,9]\n",
    "arrayB = [11,12,13,14,15,16,17,18,19] \n",
    "\n",
    "for a in arrayA:\n",
    "    print(a)\n",
    "\n",
    "for b in arrayB:\n",
    "    print(b)\n",
    "\n",
    "for a in arrayA:\n",
    "    for b in arrayB:\n",
    "        print(a,b)"
   ]
  },
  {
   "cell_type": "markdown",
   "id": "9336b546",
   "metadata": {},
   "source": [
    "######  Iterative algorithm - finding the biggest number in the array ####### "
   ]
  },
  {
   "cell_type": "code",
   "execution_count": 12,
   "id": "c11a6269",
   "metadata": {},
   "outputs": [
    {
     "name": "stdout",
     "output_type": "stream",
     "text": [
      "99\n"
     ]
    }
   ],
   "source": [
    "sample1Array = [1,10,45,33,23,45,67,2,3,33,55,11,65,76,34,35,27,99]\n",
    "\n",
    "def findBiggestNumber(sampleArray):\n",
    "    biggestNumber = sampleArray[0]\n",
    "    for index in range(1,len(sampleArray)):\n",
    "        if sampleArray[index] > biggestNumber:\n",
    "            biggestNumber = sampleArray[index]\n",
    "    print(biggestNumber)\n",
    "\n",
    "findBiggestNumber(sample1Array)"
   ]
  },
  {
   "cell_type": "markdown",
   "id": "e590c9e8",
   "metadata": {},
   "source": [
    "######  Recursive algorithm - finding the biggest number in the array #######"
   ]
  },
  {
   "cell_type": "code",
   "execution_count": 13,
   "id": "b418e66b",
   "metadata": {},
   "outputs": [
    {
     "name": "stdout",
     "output_type": "stream",
     "text": [
      "99\n"
     ]
    }
   ],
   "source": [
    "def findMaxNumRec(sampleArray, n):\n",
    "    if n == 1:\n",
    "       return sampleArray[0]\n",
    "    return max(sampleArray[n-1],findMaxNumRec(sampleArray,n-1))\n",
    "\n",
    "print(findMaxNumRec(sample1Array,len(sample1Array)))"
   ]
  },
  {
   "cell_type": "markdown",
   "id": "013ce6bb",
   "metadata": {},
   "source": [
    "######  Recursive algorithm multiple calls ####### "
   ]
  },
  {
   "cell_type": "code",
   "execution_count": 14,
   "id": "31e64813",
   "metadata": {},
   "outputs": [
    {
     "name": "stdout",
     "output_type": "stream",
     "text": [
      "4\n"
     ]
    }
   ],
   "source": [
    "def f(n):\n",
    "    if n <= 1:\n",
    "        return 1\n",
    "    return f(n-1) + f(n-1)\n",
    "\n",
    "print(f(3))"
   ]
  }
 ],
 "metadata": {
  "kernelspec": {
   "display_name": "Python 3 (ipykernel)",
   "language": "python",
   "name": "python3"
  },
  "language_info": {
   "codemirror_mode": {
    "name": "ipython",
    "version": 3
   },
   "file_extension": ".py",
   "mimetype": "text/x-python",
   "name": "python",
   "nbconvert_exporter": "python",
   "pygments_lexer": "ipython3",
   "version": "3.9.13"
  }
 },
 "nbformat": 4,
 "nbformat_minor": 5
}
