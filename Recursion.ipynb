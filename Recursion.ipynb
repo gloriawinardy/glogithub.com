{
 "cells": [
  {
   "cell_type": "markdown",
   "id": "a403eea8",
   "metadata": {},
   "source": [
    "## No 1"
   ]
  },
  {
   "cell_type": "code",
   "execution_count": 7,
   "id": "4ea6768e",
   "metadata": {},
   "outputs": [
    {
     "name": "stdout",
     "output_type": "stream",
     "text": [
      "2\n"
     ]
    }
   ],
   "source": [
    "def sum_of_digits(num):\n",
    "    if num <= 0 or not isinstance(num,int):\n",
    "        return 0\n",
    "    elif num < 10:\n",
    "        return num\n",
    "    else : \n",
    "        return num % 10 + sum_of_digits(num // 10)\n",
    "print(sum_of_digits(20))"
   ]
  },
  {
   "cell_type": "markdown",
   "id": "12e84666",
   "metadata": {},
   "source": [
    "## No 2"
   ]
  },
  {
   "cell_type": "code",
   "execution_count": 8,
   "id": "7d95cf80",
   "metadata": {},
   "outputs": [
    {
     "name": "stdout",
     "output_type": "stream",
     "text": [
      "1\n"
     ]
    }
   ],
   "source": [
    "def power(x,n):\n",
    "    if n == 0 :\n",
    "        return 1\n",
    "    elif n > 0 :\n",
    "        return x * power(x,n -1)\n",
    "    else :\n",
    "        return 1 / power(x,abs(n))\n",
    "print(power(-1,2))"
   ]
  },
  {
   "cell_type": "markdown",
   "id": "5995aaa2",
   "metadata": {},
   "source": [
    "## No 3"
   ]
  },
  {
   "cell_type": "code",
   "execution_count": 9,
   "id": "f4a9bffe",
   "metadata": {},
   "outputs": [
    {
     "name": "stdout",
     "output_type": "stream",
     "text": [
      "4\n"
     ]
    }
   ],
   "source": [
    "def gcd(a,b):\n",
    "    a = abs(a)\n",
    "    b = abs(b)\n",
    "    if b == 0:\n",
    "        return a\n",
    "    else:\n",
    "        return gcd(b,a % b)\n",
    "print(gcd(8,12))"
   ]
  },
  {
   "cell_type": "markdown",
   "id": "3b98790f",
   "metadata": {},
   "source": [
    "## No 4"
   ]
  },
  {
   "cell_type": "code",
   "execution_count": 10,
   "id": "e2f49c08",
   "metadata": {},
   "outputs": [
    {
     "name": "stdout",
     "output_type": "stream",
     "text": [
      "The binary representation of 13 is 1101\n"
     ]
    }
   ],
   "source": [
    "def decimal_to_binary(n):\n",
    "    if n <= 1:\n",
    "        return str(n)\n",
    "    else:\n",
    "        quotinent = n // 2\n",
    "        remainder = n % 2\n",
    "        return decimal_to_binary(quotinent) + str (remainder)\n",
    "    \n",
    "n = 13\n",
    "binary_num = decimal_to_binary(n)\n",
    "print(f\"The binary representation of {n} is {binary_num}\")"
   ]
  }
 ],
 "metadata": {
  "kernelspec": {
   "display_name": "Python 3 (ipykernel)",
   "language": "python",
   "name": "python3"
  },
  "language_info": {
   "codemirror_mode": {
    "name": "ipython",
    "version": 3
   },
   "file_extension": ".py",
   "mimetype": "text/x-python",
   "name": "python",
   "nbconvert_exporter": "python",
   "pygments_lexer": "ipython3",
   "version": "3.9.13"
  }
 },
 "nbformat": 4,
 "nbformat_minor": 5
}
